{
  "nbformat": 4,
  "nbformat_minor": 0,
  "metadata": {
    "colab": {
      "provenance": []
    },
    "kernelspec": {
      "name": "python3",
      "display_name": "Python 3"
    },
    "language_info": {
      "name": "python"
    }
  },
  "cells": [
    {
      "cell_type": "code",
      "execution_count": 19,
      "metadata": {
        "id": "pnkySZT0fs1L"
      },
      "outputs": [],
      "source": [
        "import numpy as np"
      ]
    },
    {
      "cell_type": "code",
      "source": [
        "actual_values = np.array([100, 150, 200, 250])\n",
        "predicted_values = np.array([90, 140, 180, 270])\n",
        "mae=np.mean(abs(actual_values-predicted_values))\n",
        "print('MAE=', mae)"
      ],
      "metadata": {
        "colab": {
          "base_uri": "https://localhost:8080/"
        },
        "id": "9oHXCm7TgXBB",
        "outputId": "a856638a-ee49-4109-d6d5-949432633ff0"
      },
      "execution_count": 20,
      "outputs": [
        {
          "output_type": "stream",
          "name": "stdout",
          "text": [
            "MAE= 15.0\n"
          ]
        }
      ]
    },
    {
      "cell_type": "code",
      "source": [
        "mse=np.mean((actual_values-predicted_values)**2)\n",
        "print('MSE=', mse)"
      ],
      "metadata": {
        "colab": {
          "base_uri": "https://localhost:8080/"
        },
        "id": "yiNpGtFohUan",
        "outputId": "e1ede1fc-a750-4e3c-d635-a3163af93dca"
      },
      "execution_count": 21,
      "outputs": [
        {
          "output_type": "stream",
          "name": "stdout",
          "text": [
            "MSE= 250.0\n"
          ]
        }
      ]
    },
    {
      "cell_type": "markdown",
      "source": [
        "# Анализ результатов\n",
        "\n",
        "Сернеквадратичная ошибка MSE=250 довольно высокая. Т.е данные не сбалансированы и тмеют довольно много выбрасов. Поэтому модель имеет плохую большую метрику MSE. Необходимо усложнять модель, а лучше добавить дополнительные признки для сгаживания выбрасов.\n",
        "\n",
        "MAE=15.0 уже поменьше, но не так высока как MSE.\n",
        "\n",
        "Впиринципе модель удовлетворительно описывает поведение данных около среднего значения судя по значению MAE=15, но плохо описывает разбросы в данных судя по высокому MSE=250. Разброс в данных очень велик из-за недостатка данных. Нужны дополнительные данные или же дополнительные признаки. Также можно усложнить модель.\n",
        "\n",
        "При выполнении этих действий можно снизить MAE и MSE."
      ],
      "metadata": {
        "id": "XQJDXyCYpM5c"
      }
    },
    {
      "cell_type": "code",
      "source": [],
      "metadata": {
        "id": "GtMeFzafjIYB"
      },
      "execution_count": null,
      "outputs": []
    }
  ]
}