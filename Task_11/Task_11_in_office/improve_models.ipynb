{
  "nbformat": 4,
  "nbformat_minor": 0,
  "metadata": {
    "colab": {
      "provenance": []
    },
    "kernelspec": {
      "name": "python3",
      "display_name": "Python 3"
    },
    "language_info": {
      "name": "python"
    }
  },
  "cells": [
    {
      "cell_type": "code",
      "execution_count": 54,
      "metadata": {
        "id": "QGrLiI0sFiul"
      },
      "outputs": [],
      "source": [
        "import numpy as np\n",
        "from sklearn.model_selection import train_test_split\n",
        "from sklearn.model_selection import KFold\n",
        "from sklearn.model_selection import cross_val_score\n",
        "from sklearn import svm\n",
        "from sklearn.model_selection import LeaveOneOut\n",
        "from sklearn.model_selection import StratifiedKFold\n",
        "from sklearn.model_selection import TimeSeriesSplit\n"
      ]
    },
    {
      "cell_type": "code",
      "source": [
        "X, y = np.arange(1000).reshape((500, 2)), np.arange(500)\n",
        "X_train, X_test, y_train, y_test = train_test_split(X, y,test_size=0.2,random_state=42)\n",
        "X_train, X_val, y_train, y_val = train_test_split(X_train, y_train,test_size=0.1,random_state=42)\n"
      ],
      "metadata": {
        "id": "r1J2MNqeF1JN"
      },
      "execution_count": 55,
      "outputs": []
    },
    {
      "cell_type": "code",
      "source": [
        "X, y = np.arange(1000).reshape((500, 2)), np.random.choice(4, size=500, p=[0.1, 0.2, 0.3, 0.4])\n",
        "X_train, X_test, y_train, y_test = train_test_split(X, y,test_size=0.2,random_state=42,stratify=y)\n"
      ],
      "metadata": {
        "id": "RVF1gVQagpBk"
      },
      "execution_count": 56,
      "outputs": []
    },
    {
      "cell_type": "code",
      "source": [
        "X = np.array([[1, 2, 3], [4, 5, 6], [7, 8, 9], [10, 11, 12]])\n",
        "y = np.array([1, 2, 3, 4])\n",
        "kf = KFold(n_splits=2)\n",
        "for train_index, test_index in kf.split(X):\n",
        "    print(\"TRAIN:\", train_index, \"TEST:\", test_index)\n",
        "    X_train, X_test = X[train_index], X[test_index]\n",
        "    y_train, y_test = y[train_index], y[test_index]\n"
      ],
      "metadata": {
        "colab": {
          "base_uri": "https://localhost:8080/"
        },
        "id": "SceA59uLheb2",
        "outputId": "f3ead0ba-6c29-49c5-f28d-779c0e02dbef"
      },
      "execution_count": 57,
      "outputs": [
        {
          "output_type": "stream",
          "name": "stdout",
          "text": [
            "TRAIN: [2 3] TEST: [0 1]\n",
            "TRAIN: [0 1] TEST: [2 3]\n"
          ]
        }
      ]
    },
    {
      "cell_type": "code",
      "source": [
        "X = np.array([[1, 2], [3, 4], [5, 6]])\n",
        "y = np.array([1, 2, 3])\n",
        "loo = LeaveOneOut()\n",
        "for train_index, test_index in loo.split(X):\n",
        "    print(\"TRAIN:\", train_index, \"TEST:\", test_index)\n",
        "    X_train, X_test = X[train_index], X[test_index]\n",
        "    y_train, y_test = y[train_index], y[test_index]\n"
      ],
      "metadata": {
        "colab": {
          "base_uri": "https://localhost:8080/"
        },
        "id": "dPD9bE6Jisu5",
        "outputId": "0e9b4d3d-0512-4134-d6d6-79f5becf6533"
      },
      "execution_count": 58,
      "outputs": [
        {
          "output_type": "stream",
          "name": "stdout",
          "text": [
            "TRAIN: [1 2] TEST: [0]\n",
            "TRAIN: [0 2] TEST: [1]\n",
            "TRAIN: [0 1] TEST: [2]\n"
          ]
        }
      ]
    },
    {
      "cell_type": "code",
      "source": [
        "\n",
        "X = np.array([[1, 2], [3, 4], [1, 2], [3, 4]])\n",
        "y = np.array([0, 0, 1, 1])\n",
        "skf = StratifiedKFold(n_splits=2)\n",
        "for train_index, test_index in skf.split(X, y):\n",
        "    print(\"TRAIN:\", train_index, \"TEST:\", test_index)\n",
        "    X_train, X_test = X[train_index], X[test_index]\n",
        "    y_train, y_test = y[train_index], y[test_index]\n"
      ],
      "metadata": {
        "colab": {
          "base_uri": "https://localhost:8080/"
        },
        "id": "7E8gVZIalNvZ",
        "outputId": "8ee98c96-8d8b-49f5-998d-877678476f96"
      },
      "execution_count": 59,
      "outputs": [
        {
          "output_type": "stream",
          "name": "stdout",
          "text": [
            "TRAIN: [1 3] TEST: [0 2]\n",
            "TRAIN: [0 2] TEST: [1 3]\n"
          ]
        }
      ]
    },
    {
      "cell_type": "code",
      "source": [
        "X = np.array([[1, 2], [3, 4], [1, 2], [3, 4], [1, 2], [3, 4]])\n",
        "y = np.array([1, 2, 3, 4, 5, 6])\n",
        "tscv = TimeSeriesSplit()\n",
        "print(tscv)\n",
        "for train_index, test_index in tscv.split(X):\n",
        "    print(\"TRAIN:\", train_index, \"TEST:\", test_index)\n",
        "    X_train, X_test = X[train_index], X[test_index]\n",
        "    y_train, y_test = y[train_index], y[test_index]\n"
      ],
      "metadata": {
        "colab": {
          "base_uri": "https://localhost:8080/"
        },
        "id": "NGlugorclWM1",
        "outputId": "91c1f562-2966-45bf-f50a-51c659318af0"
      },
      "execution_count": 60,
      "outputs": [
        {
          "output_type": "stream",
          "name": "stdout",
          "text": [
            "TimeSeriesSplit(gap=0, max_train_size=None, n_splits=5, test_size=None)\n",
            "TRAIN: [0] TEST: [1]\n",
            "TRAIN: [0 1] TEST: [2]\n",
            "TRAIN: [0 1 2] TEST: [3]\n",
            "TRAIN: [0 1 2 3] TEST: [4]\n",
            "TRAIN: [0 1 2 3 4] TEST: [5]\n"
          ]
        }
      ]
    }
  ]
}