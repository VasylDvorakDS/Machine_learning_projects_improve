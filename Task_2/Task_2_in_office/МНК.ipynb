{
  "nbformat": 4,
  "nbformat_minor": 0,
  "metadata": {
    "colab": {
      "provenance": []
    },
    "kernelspec": {
      "name": "python3",
      "display_name": "Python 3"
    },
    "language_info": {
      "name": "python"
    }
  },
  "cells": [
    {
      "cell_type": "markdown",
      "source": [
        "Пусть у нас есть пять точек и два вектора предсказаний - y1 и y2 - от двух разных моделей."
      ],
      "metadata": {
        "id": "xV9_x3nN_n1Y"
      }
    },
    {
      "cell_type": "code",
      "execution_count": null,
      "metadata": {
        "id": "eutMfwipdnwh"
      },
      "outputs": [],
      "source": [
        "import numpy as np"
      ]
    },
    {
      "cell_type": "code",
      "source": [
        "x = np.array([1, 2, 3, 4, 5])\n",
        "y = np.array([1, 2, 3, 4, 5])\n",
        "y1 = np.array([1, 2, 3, 4, 5])\n",
        "y2 = np.array([1, 1, 4, 9, 0])"
      ],
      "metadata": {
        "id": "Wg77DgeffTVM"
      },
      "execution_count": null,
      "outputs": []
    },
    {
      "cell_type": "markdown",
      "source": [
        "Отобразим их на графике"
      ],
      "metadata": {
        "id": "izYJXjnHANtH"
      }
    },
    {
      "cell_type": "code",
      "source": [
        "%matplotlib inline\n",
        "import matplotlib.pyplot as plt\n"
      ],
      "metadata": {
        "id": "Romz_Z-ufh8q"
      },
      "execution_count": null,
      "outputs": []
    },
    {
      "cell_type": "code",
      "source": [
        "plt.scatter(x, y, s=30)\n",
        "plt.plot(x, y1, 'g')\n",
        "plt.plot(x, y2, 'r')\n",
        "plt.xlabel('x')\n",
        "plt.ylabel('y')\n",
        "plt.show()"
      ],
      "metadata": {
        "id": "1UFbEPsgf3aw"
      },
      "execution_count": null,
      "outputs": []
    },
    {
      "cell_type": "markdown",
      "source": [
        "Очевидно, что зеленая линия, которая соответствует y1 имеет лучшую модель. Однако посчитаем ошибку по приведенной ранее формуле"
      ],
      "metadata": {
        "id": "dFL6H9CKArEA"
      }
    },
    {
      "cell_type": "code",
      "source": [
        "err1 = sum(y1-y)\n",
        "err2 = sum(y2-y)\n",
        "\n",
        "print('ошибка err1:', err1)\n",
        "print('ошибка err2:', err2)"
      ],
      "metadata": {
        "colab": {
          "base_uri": "https://localhost:8080/"
        },
        "id": "ClwgNd8MgKyg",
        "outputId": "47e1567b-698d-48f2-888d-0faae6bd8cde"
      },
      "execution_count": null,
      "outputs": [
        {
          "output_type": "stream",
          "name": "stdout",
          "text": [
            "ошибка err1: 0\n",
            "ошибка err2: 0\n"
          ]
        }
      ]
    },
    {
      "cell_type": "markdown",
      "source": [
        "Смотрите что мы получили. Первая модель предсказала вектор абсолютно верно, и ошибка равна нулю. Но вторая модель предсказала вектор неверно, а ошибка все равно равна нулю. Это произошло из за взаимоуничтожения ошибок -1, 1 и -5, 5(если произвести в уме вычисления то так и получается). Такой результат нас не устривает, поэтому давайте возводить результат в квадрат"
      ],
      "metadata": {
        "id": "N9zfUA6WBLUS"
      }
    },
    {
      "cell_type": "code",
      "source": [
        "err1 = sum((y1-y)**2)\n",
        "err2 = sum((y2-y)**2)\n",
        "\n",
        "print('ошибка err1:', err1)\n",
        "print('ошибка err2:', err2)"
      ],
      "metadata": {
        "colab": {
          "base_uri": "https://localhost:8080/"
        },
        "id": "LCcNhXwCgsO8",
        "outputId": "608c319f-d924-4db9-be2d-37d494ae18aa"
      },
      "execution_count": null,
      "outputs": [
        {
          "output_type": "stream",
          "name": "stdout",
          "text": [
            "ошибка err1: 0\n",
            "ошибка err2: 52\n"
          ]
        }
      ]
    },
    {
      "cell_type": "markdown",
      "source": [
        "Тогда мы будем минимизировать квадратичную функцию потерь. Поэтому метод называется методом наименьших квадратов или МНК"
      ],
      "metadata": {
        "id": "zmMTmKNiCYnS"
      }
    }
  ]
}