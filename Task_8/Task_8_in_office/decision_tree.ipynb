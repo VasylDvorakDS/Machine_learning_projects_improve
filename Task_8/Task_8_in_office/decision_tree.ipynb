{
  "nbformat": 4,
  "nbformat_minor": 0,
  "metadata": {
    "colab": {
      "provenance": []
    },
    "kernelspec": {
      "name": "python3",
      "display_name": "Python 3"
    },
    "language_info": {
      "name": "python"
    }
  },
  "cells": [
    {
      "cell_type": "code",
      "execution_count": 151,
      "metadata": {
        "id": "XZc8rTOM7a_y"
      },
      "outputs": [],
      "source": [
        "import numpy as np\n",
        "import pandas as pd\n",
        "from sklearn.datasets import load_breast_cancer, load_diabetes, fetch_openml\n",
        "from sklearn.model_selection import train_test_split\n",
        "from sklearn.tree import DecisionTreeClassifier, DecisionTreeRegressor\n",
        "from sklearn.metrics import accuracy_score, precision_score, recall_score, mean_squared_error, mean_absolute_error, r2_score, roc_curve, roc_auc_score\n",
        "from sklearn.tree import plot_tree\n",
        "import matplotlib.pyplot as plt\n",
        "from sklearn.datasets import fetch_california_housing, load_iris\n",
        "import seaborn as sns"
      ]
    },
    {
      "cell_type": "markdown",
      "source": [],
      "metadata": {
        "id": "FfZE9QK9C6h2"
      }
    },
    {
      "cell_type": "code",
      "source": [
        "from ast import Pass\n",
        "# Загрузка данных о раке молочной железы\n",
        "def split_data(input_data):\n",
        "  X = input_data.data\n",
        "  y = input_data.target\n",
        "  # Разделение данных на обучающий и тестовый наборы\n",
        "  return train_test_split(X, y, test_size=0.2, random_state=42)\n",
        "# Создание и обучение дерева решений для классификации\n",
        "def decision_tree_classification(X_train, X_test, y_train, y_test):\n",
        "    clf = DecisionTreeClassifier()\n",
        "    clf.fit(X_train, y_train)\n",
        "    # Прогнозирование классов на тестовом наборе\n",
        "    y_pred = clf.predict(X_test)\n",
        "    # Оценка качества модели\n",
        "    accuracy = accuracy_score(y_test, y_pred)\n",
        "    print(\"Accuracy:\", accuracy)\n",
        "    mae = mean_absolute_error(y_test, y_pred)\n",
        "    print(\"MAE:\", mae)\n",
        "    r2 = r2_score(y_test, y_pred)\n",
        "    print(\"R2:\", r2)\n",
        "    try:\n",
        "      precision = precision_score(y_test, y_pred)\n",
        "      print(\"Precision:\", precision)\n",
        "      recall = recall_score(y_test, y_pred)\n",
        "      print(\"Recall:\", recall)\n",
        "    except Exception as e:\n",
        "      pass\n",
        "\n",
        "\n",
        "def finally_modeling(input_data = load_breast_cancer()):\n",
        "    X_train, X_test, y_train, y_test = split_data(input_data = input_data)\n",
        "    decision_tree_classification(X_train, X_test, y_train, y_test)\n",
        "\n",
        "finally_modeling()"
      ],
      "metadata": {
        "colab": {
          "base_uri": "https://localhost:8080/"
        },
        "id": "Eq8b5Fsi7xCO",
        "outputId": "c9f659b5-04b2-4ef5-b99c-d8807ca3aef1"
      },
      "execution_count": 152,
      "outputs": [
        {
          "output_type": "stream",
          "name": "stdout",
          "text": [
            "Accuracy: 0.9385964912280702\n",
            "MAE: 0.06140350877192982\n",
            "R2: 0.7386177530298068\n",
            "Precision: 0.9444444444444444\n",
            "Recall: 0.9577464788732394\n"
          ]
        }
      ]
    },
    {
      "cell_type": "code",
      "source": [
        "finally_modeling(input_data =  load_diabetes())"
      ],
      "metadata": {
        "colab": {
          "base_uri": "https://localhost:8080/"
        },
        "id": "eKFbugHD9rw6",
        "outputId": "202e452d-0171-4596-cbab-2d1db644f8a7"
      },
      "execution_count": 153,
      "outputs": [
        {
          "output_type": "stream",
          "name": "stdout",
          "text": [
            "Accuracy: 0.011235955056179775\n",
            "MAE: 61.674157303370784\n",
            "R2: -0.24090125351886482\n"
          ]
        }
      ]
    },
    {
      "cell_type": "code",
      "source": [
        "# Генерация синтетических данных\n",
        "np.random.seed(0)\n",
        "X = np.random.rand(100, 3)\n",
        "y = 2 * X[:, 0] + 3 * X[:, 1] - 5 * X[:, 2] + np.random.randn(100) * 0.1\n",
        "# Создание DataFrame для анализа данных\n",
        "data = pd.DataFrame(X, columns=[\"feature1\", \"feature2\", \"feature3\"])\n",
        "data[\"target\"] = y\n",
        "# Визуализация зависимости каждого признака от целевой переменной\n",
        "plt.figure(figsize=(12, 5))\n",
        "for i, feature in enumerate(data.columns[:-1]):\n",
        "    plt.subplot(1, 3, i+1)\n",
        "    plt.scatter(data[feature], data[\"target\"])\n",
        "    plt.xlabel(feature)\n",
        "    plt.ylabel(\"Target\")\n",
        "plt.tight_layout()\n",
        "plt.show()\n",
        "# Основные статистические характеристики данных\n",
        "summary_stats = data.describe()\n",
        "# Корреляция между признаками и целевой переменной\n",
        "correlation_matrix = data.corr()\n",
        "target_correlations = correlation_matrix['target'].sort_values(ascending=False)\n",
        "# Разделение данных на обучающий и тестовый наборы\n",
        "X_train, X_test, y_train, y_test = train_test_split(X, y, test_size=0.2, random_state=42)\n",
        "# Создание и обучение дерева решений для регрессии\n",
        "regressor = DecisionTreeRegressor()\n",
        "regressor.fit(X_train, y_train)\n",
        "# Прогнозирование целевых значений на тестовом наборе\n",
        "y_pred = regressor.predict(X_test)\n",
        "# Оценка качества модели с помощью среднеквадратичной ошибки\n",
        "mse = mean_squared_error(y_test, y_pred)\n",
        "# Визуализация дерева решений\n",
        "plt.figure(figsize=(15, 8))\n",
        "plot_tree(regressor, feature_names=data.columns[:-1], filled=True)\n",
        "plt.show()\n",
        "print(\"Generated Data:\\n\", data.head())\n",
        "print(\"\\nSummary Statistics:\\n\", summary_stats)\n",
        "print(\"\\nCorrelation with Target:\\n\", target_correlations)\n",
        "print(\"\\nMean Squared Error:\", mse)\n"
      ],
      "metadata": {
        "colab": {
          "base_uri": "https://localhost:8080/",
          "height": 507
        },
        "id": "kSsfpX2cBfFH",
        "outputId": "1138c101-6a6b-4a23-c70f-2e7c935e27e5"
      },
      "execution_count": 154,
      "outputs": [
        {
          "output_type": "display_data",
          "data": {
            "text/plain": [
              "<Figure size 1200x500 with 3 Axes>"
            ],
            "image/png": "[encoded data removed]"
          },
          "metadata": {}
        }
      ]
    },
    {
      "cell_type": "code",
      "source": [
        "data = fetch_california_housing(as_frame=True)\n",
        "x = data.data\n",
        "y = data.target\n",
        "x.head()"
      ],
      "metadata": {
        "id": "SmR_SXOKDYtU"
      },
      "execution_count": null,
      "outputs": []
    },
    {
      "cell_type": "code",
      "source": [
        "y.head()"
      ],
      "metadata": {
        "id": "XlnWNWXDDccj"
      },
      "execution_count": null,
      "outputs": []
    },
    {
      "cell_type": "code",
      "source": [
        "X_train, X_test, y_train, y_test = split_data(input_data = data)\n",
        "# Создание и обучение дерева решений для регрессии\n",
        "regressor = DecisionTreeRegressor()\n",
        "regressor.fit(X_train, y_train)\n",
        "# Прогнозирование целевых значений на тестовом наборе\n",
        "y_pred = regressor.predict(X_test)\n",
        "r2 = r2_score(y_test, y_pred)\n",
        "print(\"R2:\", r2)"
      ],
      "metadata": {
        "id": "SJebf3J-DeIm"
      },
      "execution_count": null,
      "outputs": []
    },
    {
      "cell_type": "code",
      "source": [
        "regressor.feature_importances_"
      ],
      "metadata": {
        "id": "OoE6wAm7D1RL"
      },
      "execution_count": null,
      "outputs": []
    },
    {
      "cell_type": "code",
      "source": [
        "\n",
        "features = x.columns\n",
        "importances = regressor.feature_importances_\n",
        "indices = np.argsort(importances)\n",
        "\n",
        "plt.title('Feature Importances')\n",
        "plt.barh(range(len(indices)), importances[indices], color='b', align='center')\n",
        "plt.yticks(range(len(indices)), [features[i] for i in indices])\n",
        "plt.xlabel('Relative Importance')\n",
        "plt.show()\n"
      ],
      "metadata": {
        "id": "-gfc7ahQE5J6"
      },
      "execution_count": null,
      "outputs": []
    },
    {
      "cell_type": "code",
      "source": [
        "X_train, X_test, y_train, y_test = split_data(load_breast_cancer())\n",
        "model = DecisionTreeClassifier()\n",
        "model.fit(X_train, y_train)\n",
        "\n",
        "pred = model.predict_proba(X_test)[:, 1]\n"
      ],
      "metadata": {
        "id": "D0pQI4CyFLUj"
      },
      "execution_count": null,
      "outputs": []
    },
    {
      "cell_type": "code",
      "source": [
        "\n",
        "\n",
        "fpr, tpr, _ = roc_curve(y_test, pred)\n",
        "\n",
        "plt.plot(fpr, tpr, '-')\n",
        "plt.xlabel('fpr')\n",
        "plt.ylabel('tpr')\n"
      ],
      "metadata": {
        "id": "ghVCDZv-Hx5Z"
      },
      "execution_count": null,
      "outputs": []
    },
    {
      "cell_type": "code",
      "source": [
        "\n",
        "\n",
        "roc_auc_score(y_test, pred)\n"
      ],
      "metadata": {
        "id": "NofYwiJPIRTo"
      },
      "execution_count": null,
      "outputs": []
    },
    {
      "cell_type": "code",
      "source": [
        "import matplotlib.pyplot as plt\n",
        "import numpy as np\n",
        "\n",
        "from sklearn.linear_model import LogisticRegression\n",
        "from sklearn.metrics import accuracy_score\n",
        "from sklearn.model_selection import train_test_split\n",
        "\n",
        "%matplotlib inline\n",
        "plt.rcParams['figure.figsize'] = (11, 6.5)\n",
        "\n",
        "# Сгенерируем линейно разделимую выборку.\n",
        "np.random.seed(13)\n",
        "n = 500\n",
        "x = np.zeros(shape=(n, 2))\n",
        "x[:, 0] = np.linspace(-5, 5, 500)\n",
        "x[:, 1] = x[:, 0] + 0.5 * np.random.normal(size=n)\n",
        "y = (x[:, 1] > x[:, 0]).astype(int)\n",
        "plt.scatter(x[:, 0], x[:, 1], s=100, c=y, cmap=\"winter\")\n",
        "plt.show()\n",
        "\n",
        "\n"
      ],
      "metadata": {
        "id": "aOYNvK4nIcp3"
      },
      "execution_count": null,
      "outputs": []
    },
    {
      "cell_type": "code",
      "source": [
        "X_train, X_test, y_train, y_test = train_test_split(x, y, test_size=0.25, random_state=13)\n",
        "\n",
        "lr = LogisticRegression()\n",
        "lr.fit(X_train, y_train)\n",
        "\n",
        "y_pred_lr = lr.predict(X_test)\n",
        "accuracy_score(y_pred_lr, y_test)\n"
      ],
      "metadata": {
        "id": "lGXKXEQJJb8s"
      },
      "execution_count": null,
      "outputs": []
    },
    {
      "cell_type": "code",
      "source": [
        "!pip install mlxtend\n",
        "from mlxtend.plotting import plot_decision_regions\n",
        "\n",
        "plot_decision_regions(X_test, y_test, lr)\n",
        "plt.show()"
      ],
      "metadata": {
        "id": "avdm-VzKKYAf"
      },
      "execution_count": null,
      "outputs": []
    },
    {
      "cell_type": "code",
      "source": [
        "dt = DecisionTreeClassifier()\n",
        "dt.fit(X_train, y_train)\n",
        "\n",
        "y_pred_dt = dt.predict(X_test)\n",
        "accuracy_score(y_pred_dt, y_test)\n"
      ],
      "metadata": {
        "id": "RNmd8OYrKYo3"
      },
      "execution_count": null,
      "outputs": []
    },
    {
      "cell_type": "code",
      "source": [
        "plot_decision_regions(X_test, y_test, dt)\n",
        "plt.show()"
      ],
      "metadata": {
        "id": "_1JwNmFJLqPn"
      },
      "execution_count": null,
      "outputs": []
    },
    {
      "cell_type": "code",
      "source": [
        "np.random.seed(13)\n",
        "X = np.random.randn(500, 2)\n",
        "y = np.logical_xor(X[:, 0] > 0, X[:, 1] > 0).astype(int)\n",
        "plt.scatter(X[:, 0], X[:, 1], s=100, c=y, cmap='winter')\n",
        "plt.show()\n"
      ],
      "metadata": {
        "id": "fDbTIc3pMLyX"
      },
      "execution_count": null,
      "outputs": []
    },
    {
      "cell_type": "code",
      "source": [
        "X_train, X_test, y_train, y_test = train_test_split(X, y, test_size=0.25, random_state=12)\n",
        "\n",
        "lr = LogisticRegression()\n",
        "lr.fit(X_train, y_train)\n",
        "\n",
        "y_pred_lr = lr.predict(X_test)\n",
        "accuracy_score(y_pred_lr, y_test)\n"
      ],
      "metadata": {
        "id": "tUWfkoYOMMWI"
      },
      "execution_count": null,
      "outputs": []
    },
    {
      "cell_type": "code",
      "source": [
        "plot_decision_regions(X_test, y_test, lr)\n",
        "plt.show()\n"
      ],
      "metadata": {
        "id": "OwBkpXcDMv-H"
      },
      "execution_count": null,
      "outputs": []
    },
    {
      "cell_type": "code",
      "source": [
        "dt = DecisionTreeClassifier()\n",
        "dt.fit(X_train, y_train)\n",
        "\n",
        "y_pred_dt = dt.predict(X_test)\n",
        "accuracy_score(y_pred_dt, y_test)\n",
        "\n"
      ],
      "metadata": {
        "id": "Fc1mOFUYmkEJ"
      },
      "execution_count": null,
      "outputs": []
    },
    {
      "cell_type": "code",
      "source": [
        "plot_decision_regions(X_test, y_test, dt)\n",
        "plt.show()\n"
      ],
      "metadata": {
        "id": "iuxHAAErm3DA"
      },
      "execution_count": null,
      "outputs": []
    },
    {
      "cell_type": "code",
      "source": [],
      "metadata": {
        "id": "sr9fSkNfnLCT"
      },
      "execution_count": null,
      "outputs": []
    },
    {
      "cell_type": "code",
      "source": [
        "data = load_iris(as_frame=True)\n",
        "\n",
        "X = data.data[['sepal length (cm)', 'sepal width (cm)']]\n",
        "y = data.target\n",
        "\n",
        "X.head()\n"
      ],
      "metadata": {
        "id": "dcTfkw_soZZN"
      },
      "execution_count": null,
      "outputs": []
    },
    {
      "cell_type": "code",
      "source": [
        "X_train, X_test, y_train, y_test = train_test_split(X, y, test_size=0.2, random_state=45)\n",
        "\n",
        "tree = DecisionTreeClassifier()\n",
        "tree.fit(X_train, y_train)\n",
        "\n",
        "y_train_pred = tree.predict(X_train)\n",
        "y_test_pred = tree.predict(X_test)\n",
        "\n",
        "tree.get_depth()\n"
      ],
      "metadata": {
        "colab": {
          "base_uri": "https://localhost:8080/"
        },
        "id": "XW1Q_5OKoaIo",
        "outputId": "6c78f760-6530-4f76-adb3-edbb0c605e30"
      },
      "execution_count": 174,
      "outputs": [
        {
          "data": {
            "text/plain": [
              "10"
            ]
          },
          "execution_count": 174,
          "metadata": {},
          "output_type": "execute_result"
        }
      ]
    },
    {
      "cell_type": "code",
      "source": [
        "path = tree.cost_complexity_pruning_path(X_train, y_train)\n",
        "alphas = path['ccp_alphas']\n",
        "\n",
        "alphas\n"
      ],
      "metadata": {
        "colab": {
          "base_uri": "https://localhost:8080/"
        },
        "id": "GU2OlgZYo35l",
        "outputId": "2213b29e-2384-4e01-9bb3-3fb03cd6d091"
      },
      "execution_count": 175,
      "outputs": [
        {
          "data": {
            "text/plain": [
              "array([0.        , 0.00277778, 0.00277778, 0.00277778, 0.00324074,\n",
              "       0.00518519, 0.00555556, 0.00694444, 0.00743464, 0.01006944,\n",
              "       0.01041667, 0.01161038, 0.01230159, 0.01581699, 0.02010944,\n",
              "       0.05683866, 0.06089286, 0.20756944])"
            ]
          },
          "execution_count": 175,
          "metadata": {},
          "output_type": "execute_result"
        }
      ]
    },
    {
      "cell_type": "code",
      "source": [
        "accuracy_train, accuracy_test = [], []\n",
        "\n",
        "for i in alphas:\n",
        "    tree = DecisionTreeClassifier(ccp_alpha=i)\n",
        "\n",
        "    tree.fit(X_train, y_train)\n",
        "    y_train_pred = tree.predict(X_train)\n",
        "    y_test_pred = tree.predict(X_test)\n",
        "\n",
        "    accuracy_train.append(accuracy_score(y_train, y_train_pred))\n",
        "    accuracy_test.append(accuracy_score(y_test, y_test_pred))\n",
        "\n",
        "sns.set()\n",
        "plt.figure(figsize=(14, 7))\n",
        "sns.lineplot(y=accuracy_train, x=alphas, label=\"Train Accuracy\")\n",
        "sns.lineplot(y=accuracy_test, x=alphas, label=\"Test Accuracy\")\n",
        "plt.xticks(ticks=np.arange(0.00, 0.25, 0.01))\n",
        "plt.show()\n"
      ],
      "metadata": {
        "colab": {
          "base_uri": "https://localhost:8080/",
          "height": 604
        },
        "id": "_DweQn8Spiog",
        "outputId": "70afaabf-88c2-443b-f25c-f7868b40e4bc"
      },
      "execution_count": 176,
      "outputs": [
        {
          "data": {
            "image/png": "[encoded data removed]",
            "text/plain": [
              "<Figure size 1400x700 with 1 Axes>"
            ]
          },
          "metadata": {},
          "output_type": "display_data"
        }
      ]
    },
    {
      "cell_type": "code",
      "source": [
        "tree = DecisionTreeClassifier(ccp_alpha=0.02, random_state=40)\n",
        "tree.fit(X_train, y_train)\n",
        "\n",
        "y_train_pred = tree.predict(X_train)\n",
        "y_test_pred = tree.predict(X_test)\n",
        "\n",
        "print(accuracy_score(y_train, y_train_pred), accuracy_score(y_test, y_test_pred))\n"
      ],
      "metadata": {
        "colab": {
          "base_uri": "https://localhost:8080/"
        },
        "id": "mh5yDDx-raSe",
        "outputId": "9f5a57cb-01cd-4520-e04a-3a749612bd20"
      },
      "execution_count": 177,
      "outputs": [
        {
          "output_type": "stream",
          "name": "stdout",
          "text": [
            "0.8 0.8\n"
          ]
        }
      ]
    },
    {
      "cell_type": "code",
      "source": [],
      "metadata": {
        "id": "0I79SywGrbAT"
      },
      "execution_count": null,
      "outputs": []
    }
  ]
}